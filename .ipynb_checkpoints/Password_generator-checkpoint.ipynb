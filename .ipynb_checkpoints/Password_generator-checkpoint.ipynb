{
 "cells": [
  {
   "cell_type": "code",
   "execution_count": null,
   "metadata": {},
   "outputs": [],
   "source": [
    "import random "
   ]
  },
  {
   "cell_type": "code",
   "execution_count": null,
   "metadata": {},
   "outputs": [],
   "source": [
    "# choose the value from the list\n",
    "def choosing(val,numlist,uclist,lclist,scharlist):\n",
    "    a=val[0]\n",
    "    b=val[1]\n",
    "    c=val[2]\n",
    "    d=val[3]\n",
    "    result=[]\n",
    "    \n",
    "    for i in range(1,a+1):\n",
    "        rand=random.randint(0,len(uclist)-1)\n",
    "        result.append(uclist[rand])\n",
    "    \n",
    "    for i in range(1,b+1):\n",
    "        rand=random.randint(0,len(lclist)-1)\n",
    "        result.append(lclist[rand])\n",
    "    \n",
    "    for i in range(1,c+1):\n",
    "        rand=random.randint(0,len(numlist)-1)\n",
    "        result.append(numlist[rand])\n",
    "    \n",
    "    for i in range(1,d+1):\n",
    "        rand=random.randint(0,len(scharlist)-1)\n",
    "        result.append(scharlist[rand])\n",
    "    \n",
    "    random.shuffle(result)\n",
    "    \n",
    "    #print(result)\n",
    "    return result\n",
    "        \n",
    "    \n",
    "    "
   ]
  },
  {
   "cell_type": "code",
   "execution_count": null,
   "metadata": {},
   "outputs": [],
   "source": [
    "# I define \"how many characther is needed from the lists\" here !\n",
    "def count_of_list(total):\n",
    "    \n",
    "    while True:\n",
    "        r1 = random.randint(1,total)\n",
    "        if r1+4>=total:\n",
    "            r1 = random.randint(1,total)\n",
    "        else:\n",
    "            total1 = total-r1\n",
    "            break\n",
    "            \n",
    "    #print(f\"{r1} : {total1}\")\n",
    "            \n",
    "    while True:\n",
    "        r2 = random.randint(1,total1)\n",
    "        if r2+3>=total1:\n",
    "            r2 = random.randint(1,total1)\n",
    "        else:\n",
    "            total2 = total1-r2\n",
    "            break\n",
    "    \n",
    "    #print(f\"{r2} : {total2}\")\n",
    "    \n",
    "    while True:\n",
    "        r3 = random.randint(1,total2)\n",
    "        if r3+2>=total2:\n",
    "            r3 = random.randint(1,total2)\n",
    "        else:\n",
    "            total3 = total2-r3\n",
    "            break\n",
    "    \n",
    "    #print(f\"{r3} : {total3}\")\n",
    "    \n",
    "\n",
    "    r4 = total3\n",
    "\n",
    "    \n",
    "    #print(f\"{r4} : {total3}\")\n",
    "    \n",
    "    \"\"\"\n",
    "        r2 = random.randint(1,total)\n",
    "    total = total-r2\n",
    "    r3 = random.randint(1,total)\n",
    "    total = total-r3\n",
    "    r4 = random.randint(1,total)\n",
    "    \"\"\"\n",
    "\n",
    "    \n",
    "    return (r1,r2,r3,r4)"
   ]
  },
  {
   "cell_type": "code",
   "execution_count": null,
   "metadata": {
    "scrolled": false
   },
   "outputs": [],
   "source": [
    "# I define \"how long the password\" here !\n",
    "def passw():\n",
    "    while True:\n",
    "        x = int(input(\"Please give me that, How long shoud your password be ?\\n Minimum is 6 characther and Maximum is 14 characther\\n\"))\n",
    "        if x>=14 and x<= 6:\n",
    "            x = int(input(\"Please give me that, How long shoud your password be ?\\n Minimum is 6 characther and Maximum is 14 characther\\n\"))\n",
    "        elif x<=14 and x>= 6:\n",
    "            break\n",
    "    return x"
   ]
  },
  {
   "cell_type": "code",
   "execution_count": null,
   "metadata": {},
   "outputs": [],
   "source": [
    "numlist= [0,1,2,3,4,5,6,7,8,9] #10\n",
    "uclist =['A','B','C','D','E','F','G','H','I','J','K','L','M','N','O','P','Q','R','S','T','U','V','W','X','Y','Z'] #26\n",
    "lclist=['a','b','c','d','e','f','g','h','i','j','k','l','m','n','o','p','q','r','s','t','u','v','w','x','y','z'] #26\n",
    "scharlist =['+','!','%','/','-','*','?','<','>'] #9\n",
    "\n",
    "total = passw()\n",
    "nb_list = count_of_list(total)\n",
    "generated_password=choosing(nb_list,numlist,uclist,lclist,scharlist)\n",
    "#final_password = str(generated_password)\n",
    "final_password = ''.join(map(str,generated_password))\n",
    "\n",
    "print(\"Here is your password: \" + final_password)\n",
    "\n",
    "\n"
   ]
  }
 ],
 "metadata": {
  "kernelspec": {
   "display_name": "Python 3",
   "language": "python",
   "name": "python3"
  },
  "language_info": {
   "codemirror_mode": {
    "name": "ipython",
    "version": 3
   },
   "file_extension": ".py",
   "mimetype": "text/x-python",
   "name": "python",
   "nbconvert_exporter": "python",
   "pygments_lexer": "ipython3",
   "version": "3.8.3"
  }
 },
 "nbformat": 4,
 "nbformat_minor": 4
}
